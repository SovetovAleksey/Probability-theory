{
  "nbformat": 4,
  "nbformat_minor": 0,
  "metadata": {
    "colab": {
      "name": "3.ipynb",
      "provenance": [],
      "collapsed_sections": [
        "Ff7PGSgMqX8v",
        "tO6dcsulvM-9",
        "PHaNzeZt5Bab",
        "3UtrhePO776T"
      ],
      "authorship_tag": "ABX9TyNW14h1IGGgl4Q1H7B6Oot/",
      "include_colab_link": true
    },
    "kernelspec": {
      "name": "python3",
      "display_name": "Python 3"
    },
    "language_info": {
      "name": "python"
    }
  },
  "cells": [
    {
      "cell_type": "markdown",
      "metadata": {
        "id": "view-in-github",
        "colab_type": "text"
      },
      "source": [
        "<a href=\"https://colab.research.google.com/github/SovetovAleksey/Probability-theory/blob/3_quest/3.ipynb\" target=\"_parent\"><img src=\"https://colab.research.google.com/assets/colab-badge.svg\" alt=\"Open In Colab\"/></a>"
      ]
    },
    {
      "cell_type": "code",
      "execution_count": 13,
      "metadata": {
        "id": "0fkygRV4qW6K"
      },
      "outputs": [],
      "source": [
        "import numpy as np\n",
        "import pandas as pd\n",
        "import matplotlib.pyplot as plt\n",
        "import seaborn as sns"
      ]
    },
    {
      "cell_type": "markdown",
      "source": [
        "# 1. Даны значения зарплат из выборки выпускников: 100, 80, 75, 77, 89, 33, 45, 25, 65, 17, 30, 24, 57, 55, 70, 75, 65, 84, 90, 150. Посчитать (желательно без использования статистических методов наподобие std, var, mean) среднее арифметическое, среднее квадратичное отклонение, смещенную и несмещенную оценки дисперсий, первый и третий квартили, интерквартильное расстояние. Найти выбросы в выборке, используя для этого \"усы\" из boxplot. В этой задаче можно использовать статистические функции."
      ],
      "metadata": {
        "id": "Ff7PGSgMqX8v"
      }
    },
    {
      "cell_type": "code",
      "source": [
        "data = pd.Series([100, 80, 75, 77, 89, 33, 45, 25, 65, 17, 30, 24, 57, 55, 70, 75, 65, 84, 90, 150])\n",
        "data"
      ],
      "metadata": {
        "id": "8v2vFrcSqqdW"
      },
      "execution_count": null,
      "outputs": []
    },
    {
      "cell_type": "code",
      "source": [
        "mean_data = data.sum() / data.count()\n",
        "mean_data"
      ],
      "metadata": {
        "id": "JMsBROa4qyPc"
      },
      "execution_count": null,
      "outputs": []
    },
    {
      "cell_type": "code",
      "source": [
        "mean_square_data = np.sqrt(((data - mean_data)**2).sum() / data.count())\n",
        "mean_square_data"
      ],
      "metadata": {
        "id": "Aa92xY9trKhG"
      },
      "execution_count": null,
      "outputs": []
    },
    {
      "cell_type": "code",
      "source": [
        "biased_variance = mean_square_data ** 2\n",
        "biased_variance"
      ],
      "metadata": {
        "id": "U0Ze2k_4rtmb"
      },
      "execution_count": null,
      "outputs": []
    },
    {
      "cell_type": "code",
      "source": [
        "not_biased_variance = np.sqrt(((data - mean_data)**2).sum() / data.count() - 1) ** 2\n",
        "not_biased_variance"
      ],
      "metadata": {
        "id": "sjXHo_cjsG7U"
      },
      "execution_count": null,
      "outputs": []
    },
    {
      "cell_type": "code",
      "source": [
        "q25 = data.quantile(q=0.25)\n",
        "q75 = data.quantile(q=0.75)\n",
        "iqr = q75 - q25\n",
        "q25, q75, iqr"
      ],
      "metadata": {
        "id": "xrkMOSB0tOD5"
      },
      "execution_count": null,
      "outputs": []
    },
    {
      "cell_type": "code",
      "source": [
        "sns.boxplot(data, orient='v')\n",
        "plt.show()"
      ],
      "metadata": {
        "colab": {
          "base_uri": "https://localhost:8080/",
          "height": 354
        },
        "id": "CIe1oSgWuGj4",
        "outputId": "ef6a9a09-e1d3-4360-909e-0c28840a1ded"
      },
      "execution_count": 17,
      "outputs": [
        {
          "output_type": "stream",
          "name": "stderr",
          "text": [
            "/usr/local/lib/python3.7/dist-packages/seaborn/_decorators.py:43: FutureWarning: Pass the following variable as a keyword arg: x. From version 0.12, the only valid positional argument will be `data`, and passing other arguments without an explicit keyword will result in an error or misinterpretation.\n",
            "  FutureWarning\n",
            "/usr/local/lib/python3.7/dist-packages/seaborn/_core.py:1326: UserWarning: Vertical orientation ignored with only `x` specified.\n",
            "  warnings.warn(single_var_warning.format(\"Vertical\", \"x\"))\n"
          ]
        },
        {
          "output_type": "display_data",
          "data": {
            "text/plain": [
              "<Figure size 432x288 with 1 Axes>"
            ],
            "image/png": "[encoded data removed]"
          },
          "metadata": {
            "needs_background": "light"
          }
        }
      ]
    },
    {
      "cell_type": "markdown",
      "source": [
        "# 2. В первом ящике находится 8 мячей, из которых 5 - белые. Во втором ящике - 12 мячей, из которых 5 белых. Из первого ящика вытаскивают случайным образом два мяча, из второго - 4. Какова вероятность того, что 3 мяча белые?"
      ],
      "metadata": {
        "id": "tO6dcsulvM-9"
      }
    },
    {
      "cell_type": "markdown",
      "source": [
        "$$P_1 = \\frac{C_5^2}{C_8^2} \\cdot \\frac{C_5^1 \\cdot C_7^3}{C_{12}^4} = \\frac{25}{198}$$\n",
        "\n",
        "$$P_2 = \\frac{C_5^1 \\cdot C_3^1}{C_8^2} \\cdot \\frac{C_5^2 \\cdot C_7^2}{C_{12}^4} = \\frac{5}{22}$$\n",
        "\n",
        "$$P_3 = \\frac{C_3^2}{C_8^2} \\cdot \\frac{C_5^3 \\cdot C_7^1}{C_{12}^4} = \\frac{1}{66}$$\n",
        "\n",
        "$$P_{общ} = P_1 + P_2 + P_3 = \\frac{8833}{23958}$$"
      ],
      "metadata": {
        "id": "CL2Y0_4nvSDw"
      }
    },
    {
      "cell_type": "markdown",
      "source": [
        "# 3. В университет на факультеты A и B поступило равное количество студентов, а на факультет C студентов поступило столько же, сколько на A и B вместе. Вероятность того, что студент факультета A сдаст первую сессию, равна 0.8. Для студента факультета B эта вероятность равна 0.7, а для студента факультета C - 0.9. Студент сдал первую сессию. Какова вероятность, что он учится: a). на факультете A б). на факультете B в). на факультете C?"
      ],
      "metadata": {
        "id": "PHaNzeZt5Bab"
      }
    },
    {
      "cell_type": "markdown",
      "source": [
        "$$P(A\\:|\\:B_1) = 0.8$$\n",
        "\n",
        "$$P(A\\:|\\:B_2) = 0.7$$\n",
        "\n",
        "$$P(A\\:|\\:B_3) = 0.9$$\n",
        "\n",
        "$$P(A) = 0.25 \\cdot 0.8 + 0.25 \\cdot 0.7 + 0.5 \\cdot 0.9 = 0.825$$\n"
      ],
      "metadata": {
        "id": "mEQorGzJ5GLp"
      }
    },
    {
      "cell_type": "markdown",
      "source": [
        "$$P_A(B_1\\:|\\:A) = \\frac{P(B_1) \\cdot P(A\\:|\\:B_1)}{P(A)} = \\frac{0.25 \\cdot 0.8}{0.825} = \\frac{8}{33}$$\n",
        "\n",
        "$$P_B(B_2\\:|\\:A) = \\frac{P(B_2) \\cdot P(A\\:|\\:B_2)}{P(A)} = \\frac{0.25 \\cdot 0.7}{0.825} = \\frac{7}{33}$$\n",
        "\n",
        "$$P_C(B_3\\:|\\:A) = \\frac{P(B_3) \\cdot P(A\\:|\\:B_3)}{P(A)} = \\frac{0.5 \\cdot 0.9}{0.825} = \\frac{18}{33}$$"
      ],
      "metadata": {
        "id": "lcyj7nJl58zt"
      }
    },
    {
      "cell_type": "markdown",
      "source": [
        "# 4. Устройство состоит из трех деталей. Для первой детали вероятность выйти из строя в первый месяц равна 0.1, для второй - 0.2, для третьей - 0.25. Какова вероятность того, что в первый месяц выйдут из строя: а). все детали б). только две детали в). хотя бы одна деталь г). от одной до двух деталей?"
      ],
      "metadata": {
        "id": "3UtrhePO776T"
      }
    },
    {
      "cell_type": "markdown",
      "source": [
        "$$P_{(a)} = 0.1 \\cdot 0.2 \\cdot 0.25 = 0.005$$\n",
        "\n",
        "$$P_{(b)} = (0.1 \\cdot 0.2 \\cdot 0.75) + (0.1 \\cdot 0.8 \\cdot 0.25) + (0.9 \\cdot 0.2 \\cdot 0.25) = 0.08$$\n",
        "\n",
        "$$P_{(c)} = 1 - (0.9 \\cdot 0.8 \\cdot 0.75) = 0.46$$\n",
        "\n",
        "$$P_{(d)} = P_{(b)} + (0.1 \\cdot 0.8 \\cdot 0.75) + (0.9 \\cdot 0.2 \\cdot 0.75) + (0.9 \\cdot 0.8 \\cdot 0.25) = 0.455$$"
      ],
      "metadata": {
        "id": "cfpB5Qvq8LXw"
      }
    }
  ]
}