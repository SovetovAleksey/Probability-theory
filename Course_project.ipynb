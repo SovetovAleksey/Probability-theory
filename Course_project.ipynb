{
  "nbformat": 4,
  "nbformat_minor": 0,
  "metadata": {
    "colab": {
      "name": "Course_project.ipynb",
      "provenance": [],
      "collapsed_sections": [],
      "authorship_tag": "ABX9TyOQTJsQU6QMRBh+mtpZfZvV",
      "include_colab_link": true
    },
    "kernelspec": {
      "name": "python3",
      "display_name": "Python 3"
    },
    "language_info": {
      "name": "python"
    }
  },
  "cells": [
    {
      "cell_type": "markdown",
      "metadata": {
        "id": "view-in-github",
        "colab_type": "text"
      },
      "source": [
        "<a href=\"https://colab.research.google.com/github/SovetovAleksey/Probability-theory/blob/course_project/Course_project.ipynb\" target=\"_parent\"><img src=\"https://colab.research.google.com/assets/colab-badge.svg\" alt=\"Open In Colab\"/></a>"
      ]
    },
    {
      "cell_type": "markdown",
      "source": [
        "Проверить гипотезу: Фильмы, снятые до 1990 года, в среднем имеют более высокую оценку, чем фильмы, снятые позже.\n"
      ],
      "metadata": {
        "id": "ntRu1yqQ0BOe"
      }
    },
    {
      "cell_type": "code",
      "execution_count": 4,
      "metadata": {
        "id": "8-yNV_22T_8g"
      },
      "outputs": [],
      "source": [
        "import numpy as np\n",
        "import pandas as pd\n",
        "import matplotlib.pyplot as plt\n",
        "from scipy import stats"
      ]
    },
    {
      "cell_type": "code",
      "source": [
        "df = pd.read_csv('/content/sample_data/kinopoisk-top250.csv')\n",
        "df.head()"
      ],
      "metadata": {
        "colab": {
          "base_uri": "https://localhost:8080/",
          "height": 511
        },
        "id": "qRfnzzCeUs2k",
        "outputId": "1584201a-0f2c-4bad-d109-74d779313da1"
      },
      "execution_count": 6,
      "outputs": [
        {
          "output_type": "execute_result",
          "data": {
            "text/plain": [
              "   rating               movie  year  country  rating_ball  \\\n",
              "0       0  Побег из Шоушенка   1994      США        9.111   \n",
              "1       1       Зеленая миля   1999      США        9.062   \n",
              "2       2       Форрест Гамп   1994      США        8.913   \n",
              "3       3    Список Шиндлера   1993      США        8.817   \n",
              "4       4                1+1   2011  Франция        8.807   \n",
              "\n",
              "                                            overview  \\\n",
              "0  Бухгалтер Энди Дюфрейн обвинён в убийстве собс...   \n",
              "1  Пол Эджкомб — начальник блока смертников в тюр...   \n",
              "2  От лица главного героя Форреста Гампа; слабоум...   \n",
              "3  Фильм рассказывает реальную историю загадочног...   \n",
              "4  Пострадав в результате несчастного случая; бог...   \n",
              "\n",
              "                        director  \\\n",
              "0                 Фрэнк Дарабонт   \n",
              "1                 Фрэнк Дарабонт   \n",
              "2                 Роберт Земекис   \n",
              "3                Стивен Спилберг   \n",
              "4   Оливье Накаш;  Эрик Толедано   \n",
              "\n",
              "                                        screenwriter  \\\n",
              "0                       Фрэнк Дарабонт;  Стивен Кинг   \n",
              "1                       Фрэнк Дарабонт;  Стивен Кинг   \n",
              "2                            Эрик Рот;  Уинстон Грум   \n",
              "3                     Стивен Зеллиан;  Томас Кенилли   \n",
              "4   Оливье Накаш;  Филипп Поццо ди Борго;  Эрик Т...   \n",
              "\n",
              "                                              actors  \\\n",
              "0  Тим Роббинс; Морган Фриман; Боб Гантон; Уильям...   \n",
              "1  Том Хэнкс; Дэвид Морс; Бонни Хант; Майкл Кларк...   \n",
              "2  Том Хэнкс; Робин Райт; Салли Филд; Гэри Синиз;...   \n",
              "3  Лиам Нисон; Бен Кингсли; Рэйф Файнс; Кэролайн ...   \n",
              "4  Франсуа Клюзе; Омар Си; Анн Ле Ни; Одри Флеро;...   \n",
              "\n",
              "                                            url_logo  \n",
              "0  'https://st.kp.yandex.net/images/film_iphone/i...  \n",
              "1  'https://st.kp.yandex.net/images/film_iphone/i...  \n",
              "2  'https://st.kp.yandex.net/images/film_iphone/i...  \n",
              "3  'https://st.kp.yandex.net/images/film_iphone/i...  \n",
              "4  'https://st.kp.yandex.net/images/film_iphone/i...  "
            ],
            "text/html": [
              "\n",
              "  <div id=\"df-8117ee43-4b83-422d-8aef-49b7038133f5\">\n",
              "    <div class=\"colab-df-container\">\n",
              "      <div>\n",
              "<style scoped>\n",
              "    .dataframe tbody tr th:only-of-type {\n",
              "        vertical-align: middle;\n",
              "    }\n",
              "\n",
              "    .dataframe tbody tr th {\n",
              "        vertical-align: top;\n",
              "    }\n",
              "\n",
              "    .dataframe thead th {\n",
              "        text-align: right;\n",
              "    }\n",
              "</style>\n",
              "<table border=\"1\" class=\"dataframe\">\n",
              "  <thead>\n",
              "    <tr style=\"text-align: right;\">\n",
              "      <th></th>\n",
              "      <th>rating</th>\n",
              "      <th>movie</th>\n",
              "      <th>year</th>\n",
              "      <th>country</th>\n",
              "      <th>rating_ball</th>\n",
              "      <th>overview</th>\n",
              "      <th>director</th>\n",
              "      <th>screenwriter</th>\n",
              "      <th>actors</th>\n",
              "      <th>url_logo</th>\n",
              "    </tr>\n",
              "  </thead>\n",
              "  <tbody>\n",
              "    <tr>\n",
              "      <th>0</th>\n",
              "      <td>0</td>\n",
              "      <td>Побег из Шоушенка</td>\n",
              "      <td>1994</td>\n",
              "      <td>США</td>\n",
              "      <td>9.111</td>\n",
              "      <td>Бухгалтер Энди Дюфрейн обвинён в убийстве собс...</td>\n",
              "      <td>Фрэнк Дарабонт</td>\n",
              "      <td>Фрэнк Дарабонт;  Стивен Кинг</td>\n",
              "      <td>Тим Роббинс; Морган Фриман; Боб Гантон; Уильям...</td>\n",
              "      <td>'https://st.kp.yandex.net/images/film_iphone/i...</td>\n",
              "    </tr>\n",
              "    <tr>\n",
              "      <th>1</th>\n",
              "      <td>1</td>\n",
              "      <td>Зеленая миля</td>\n",
              "      <td>1999</td>\n",
              "      <td>США</td>\n",
              "      <td>9.062</td>\n",
              "      <td>Пол Эджкомб — начальник блока смертников в тюр...</td>\n",
              "      <td>Фрэнк Дарабонт</td>\n",
              "      <td>Фрэнк Дарабонт;  Стивен Кинг</td>\n",
              "      <td>Том Хэнкс; Дэвид Морс; Бонни Хант; Майкл Кларк...</td>\n",
              "      <td>'https://st.kp.yandex.net/images/film_iphone/i...</td>\n",
              "    </tr>\n",
              "    <tr>\n",
              "      <th>2</th>\n",
              "      <td>2</td>\n",
              "      <td>Форрест Гамп</td>\n",
              "      <td>1994</td>\n",
              "      <td>США</td>\n",
              "      <td>8.913</td>\n",
              "      <td>От лица главного героя Форреста Гампа; слабоум...</td>\n",
              "      <td>Роберт Земекис</td>\n",
              "      <td>Эрик Рот;  Уинстон Грум</td>\n",
              "      <td>Том Хэнкс; Робин Райт; Салли Филд; Гэри Синиз;...</td>\n",
              "      <td>'https://st.kp.yandex.net/images/film_iphone/i...</td>\n",
              "    </tr>\n",
              "    <tr>\n",
              "      <th>3</th>\n",
              "      <td>3</td>\n",
              "      <td>Список Шиндлера</td>\n",
              "      <td>1993</td>\n",
              "      <td>США</td>\n",
              "      <td>8.817</td>\n",
              "      <td>Фильм рассказывает реальную историю загадочног...</td>\n",
              "      <td>Стивен Спилберг</td>\n",
              "      <td>Стивен Зеллиан;  Томас Кенилли</td>\n",
              "      <td>Лиам Нисон; Бен Кингсли; Рэйф Файнс; Кэролайн ...</td>\n",
              "      <td>'https://st.kp.yandex.net/images/film_iphone/i...</td>\n",
              "    </tr>\n",
              "    <tr>\n",
              "      <th>4</th>\n",
              "      <td>4</td>\n",
              "      <td>1+1</td>\n",
              "      <td>2011</td>\n",
              "      <td>Франция</td>\n",
              "      <td>8.807</td>\n",
              "      <td>Пострадав в результате несчастного случая; бог...</td>\n",
              "      <td>Оливье Накаш;  Эрик Толедано</td>\n",
              "      <td>Оливье Накаш;  Филипп Поццо ди Борго;  Эрик Т...</td>\n",
              "      <td>Франсуа Клюзе; Омар Си; Анн Ле Ни; Одри Флеро;...</td>\n",
              "      <td>'https://st.kp.yandex.net/images/film_iphone/i...</td>\n",
              "    </tr>\n",
              "  </tbody>\n",
              "</table>\n",
              "</div>\n",
              "      <button class=\"colab-df-convert\" onclick=\"convertToInteractive('df-8117ee43-4b83-422d-8aef-49b7038133f5')\"\n",
              "              title=\"Convert this dataframe to an interactive table.\"\n",
              "              style=\"display:none;\">\n",
              "        \n",
              "  <svg xmlns=\"http://www.w3.org/2000/svg\" height=\"24px\"viewBox=\"0 0 24 24\"\n",
              "       width=\"24px\">\n",
              "    <path d=\"M0 0h24v24H0V0z\" fill=\"none\"/>\n",
              "    <path d=\"M18.56 5.44l.94 2.06.94-2.06 2.06-.94-2.06-.94-.94-2.06-.94 2.06-2.06.94zm-11 1L8.5 8.5l.94-2.06 2.06-.94-2.06-.94L8.5 2.5l-.94 2.06-2.06.94zm10 10l.94 2.06.94-2.06 2.06-.94-2.06-.94-.94-2.06-.94 2.06-2.06.94z\"/><path d=\"M17.41 7.96l-1.37-1.37c-.4-.4-.92-.59-1.43-.59-.52 0-1.04.2-1.43.59L10.3 9.45l-7.72 7.72c-.78.78-.78 2.05 0 2.83L4 21.41c.39.39.9.59 1.41.59.51 0 1.02-.2 1.41-.59l7.78-7.78 2.81-2.81c.8-.78.8-2.07 0-2.86zM5.41 20L4 18.59l7.72-7.72 1.47 1.35L5.41 20z\"/>\n",
              "  </svg>\n",
              "      </button>\n",
              "      \n",
              "  <style>\n",
              "    .colab-df-container {\n",
              "      display:flex;\n",
              "      flex-wrap:wrap;\n",
              "      gap: 12px;\n",
              "    }\n",
              "\n",
              "    .colab-df-convert {\n",
              "      background-color: #E8F0FE;\n",
              "      border: none;\n",
              "      border-radius: 50%;\n",
              "      cursor: pointer;\n",
              "      display: none;\n",
              "      fill: #1967D2;\n",
              "      height: 32px;\n",
              "      padding: 0 0 0 0;\n",
              "      width: 32px;\n",
              "    }\n",
              "\n",
              "    .colab-df-convert:hover {\n",
              "      background-color: #E2EBFA;\n",
              "      box-shadow: 0px 1px 2px rgba(60, 64, 67, 0.3), 0px 1px 3px 1px rgba(60, 64, 67, 0.15);\n",
              "      fill: #174EA6;\n",
              "    }\n",
              "\n",
              "    [theme=dark] .colab-df-convert {\n",
              "      background-color: #3B4455;\n",
              "      fill: #D2E3FC;\n",
              "    }\n",
              "\n",
              "    [theme=dark] .colab-df-convert:hover {\n",
              "      background-color: #434B5C;\n",
              "      box-shadow: 0px 1px 3px 1px rgba(0, 0, 0, 0.15);\n",
              "      filter: drop-shadow(0px 1px 2px rgba(0, 0, 0, 0.3));\n",
              "      fill: #FFFFFF;\n",
              "    }\n",
              "  </style>\n",
              "\n",
              "      <script>\n",
              "        const buttonEl =\n",
              "          document.querySelector('#df-8117ee43-4b83-422d-8aef-49b7038133f5 button.colab-df-convert');\n",
              "        buttonEl.style.display =\n",
              "          google.colab.kernel.accessAllowed ? 'block' : 'none';\n",
              "\n",
              "        async function convertToInteractive(key) {\n",
              "          const element = document.querySelector('#df-8117ee43-4b83-422d-8aef-49b7038133f5');\n",
              "          const dataTable =\n",
              "            await google.colab.kernel.invokeFunction('convertToInteractive',\n",
              "                                                     [key], {});\n",
              "          if (!dataTable) return;\n",
              "\n",
              "          const docLinkHtml = 'Like what you see? Visit the ' +\n",
              "            '<a target=\"_blank\" href=https://colab.research.google.com/notebooks/data_table.ipynb>data table notebook</a>'\n",
              "            + ' to learn more about interactive tables.';\n",
              "          element.innerHTML = '';\n",
              "          dataTable['output_type'] = 'display_data';\n",
              "          await google.colab.output.renderOutput(dataTable, element);\n",
              "          const docLink = document.createElement('div');\n",
              "          docLink.innerHTML = docLinkHtml;\n",
              "          element.appendChild(docLink);\n",
              "        }\n",
              "      </script>\n",
              "    </div>\n",
              "  </div>\n",
              "  "
            ]
          },
          "metadata": {},
          "execution_count": 6
        }
      ]
    },
    {
      "cell_type": "code",
      "source": [
        "plt.figure(figsize = (16, 8))\n",
        "\n",
        "df['rating_ball'].hist(bins = 30)\n",
        "plt.xlabel('Rating')\n",
        "plt.ylabel('Count')\n",
        "\n",
        "plt.title('Target destribution')\n",
        "plt.show()"
      ],
      "metadata": {
        "colab": {
          "base_uri": "https://localhost:8080/",
          "height": 513
        },
        "id": "dhyHvOzX5lbP",
        "outputId": "b3e8f78a-1fd5-45ae-f53e-c0199f4540dd"
      },
      "execution_count": 7,
      "outputs": [
        {
          "output_type": "display_data",
          "data": {
            "text/plain": [
              "<Figure size 1152x576 with 1 Axes>"
            ],
            "image/png": "[encoded data removed]"
          },
          "metadata": {
            "needs_background": "light"
          }
        }
      ]
    },
    {
      "cell_type": "markdown",
      "source": [
        "Отберем фильмы снятые до 1990 года и после"
      ],
      "metadata": {
        "id": "kqlt-sEc4yV8"
      }
    },
    {
      "cell_type": "code",
      "source": [
        "before_1990 = df[df['year'] <= 1990]['rating_ball']\n",
        "before_1990.head()"
      ],
      "metadata": {
        "colab": {
          "base_uri": "https://localhost:8080/"
        },
        "id": "g6m8R8-M2m8o",
        "outputId": "f03c8530-8817-4387-9dc7-4c67b5e93ed4"
      },
      "execution_count": 8,
      "outputs": [
        {
          "output_type": "execute_result",
          "data": {
            "text/plain": [
              "9     8.782\n",
              "12    8.732\n",
              "14    8.712\n",
              "20    8.626\n",
              "23    8.516\n",
              "Name: rating_ball, dtype: float64"
            ]
          },
          "metadata": {},
          "execution_count": 8
        }
      ]
    },
    {
      "cell_type": "code",
      "source": [
        "after_1990 = df[df['year'] > 1990]['rating_ball'][:53:-1]\n",
        "after_1990.head()"
      ],
      "metadata": {
        "colab": {
          "base_uri": "https://localhost:8080/"
        },
        "id": "zTBqfr3i4i35",
        "outputId": "7cb85f18-2f6f-4d04-f236-d10bd4f45004"
      },
      "execution_count": 9,
      "outputs": [
        {
          "output_type": "execute_result",
          "data": {
            "text/plain": [
              "246    8.007\n",
              "244    8.063\n",
              "242    7.806\n",
              "239    7.934\n",
              "238    7.948\n",
              "Name: rating_ball, dtype: float64"
            ]
          },
          "metadata": {},
          "execution_count": 9
        }
      ]
    },
    {
      "cell_type": "markdown",
      "source": [
        "# 1. Проверка гипотезы"
      ],
      "metadata": {
        "id": "9VfzRysi9ax8"
      }
    },
    {
      "cell_type": "markdown",
      "source": [
        "Постановка гипотезы"
      ],
      "metadata": {
        "id": "bCpqnuUQ-186"
      }
    },
    {
      "cell_type": "code",
      "source": [
        "before_1990_mean = before_1990.mean()\n",
        "after_1990_mean = after_1990.mean()\n",
        "before_1990_mean, after_1990_mean"
      ],
      "metadata": {
        "colab": {
          "base_uri": "https://localhost:8080/"
        },
        "id": "YoIwUP16BHZe",
        "outputId": "d808026a-43b5-4b66-e89c-0a448b1d4faa"
      },
      "execution_count": 10,
      "outputs": [
        {
          "output_type": "execute_result",
          "data": {
            "text/plain": [
              "(8.266326530612243, 8.062326530612246)"
            ]
          },
          "metadata": {},
          "execution_count": 10
        }
      ]
    },
    {
      "cell_type": "markdown",
      "source": [
        "$$H0: 8.266326530612243 = 8.062326530612246$$\n",
        "$$H1: 8.266326530612243 > 8.062326530612246$$"
      ],
      "metadata": {
        "id": "0d5dC5GvBKfO"
      }
    },
    {
      "cell_type": "code",
      "source": [
        "after_1990_std = after_1990.std(ddof = 1)\n",
        "after_1990_std"
      ],
      "metadata": {
        "colab": {
          "base_uri": "https://localhost:8080/"
        },
        "id": "NVw-oi22CfgT",
        "outputId": "5e281411-7e4c-489b-e839-2c46f975f6db"
      },
      "execution_count": 11,
      "outputs": [
        {
          "output_type": "execute_result",
          "data": {
            "text/plain": [
              "0.1019047235947973"
            ]
          },
          "metadata": {},
          "execution_count": 11
        }
      ]
    },
    {
      "cell_type": "markdown",
      "source": [
        "$$\\alpha = 0,05, n = 98, \\sigma = 0.1019047235947973$$"
      ],
      "metadata": {
        "id": "sBpOIx6sESEW"
      }
    },
    {
      "cell_type": "markdown",
      "source": [
        "$$Z_{H} = \\dfrac{\\overline{X} - m}{\\sigma_X / \\sqrt{n}} = \\frac{8.062326530612246 - 8.266326530612243}{0.1019047235947973 / \\sqrt{98}} = -19.817501052246172$$"
      ],
      "metadata": {
        "id": "2Hqyvp3REfFA"
      }
    },
    {
      "cell_type": "markdown",
      "source": [
        "$$Z_m = 1.645$$"
      ],
      "metadata": {
        "id": "Zp_OiWnzF6Go"
      }
    },
    {
      "cell_type": "markdown",
      "source": [
        "$$Z_{H} \\in [-1.645; +1.645]$$"
      ],
      "metadata": {
        "id": "K6Wjs5YiHIDT"
      }
    },
    {
      "cell_type": "markdown",
      "source": [
        "Наше значение не попало в интервал, так что отвергаем нулевую гипотезу и принимаем альтернативную"
      ],
      "metadata": {
        "id": "J5x0qAqJIBLV"
      }
    },
    {
      "cell_type": "markdown",
      "source": [
        "# 2. Мода, медиана, квартили, дисперсия"
      ],
      "metadata": {
        "id": "V0dd9riYnL9X"
      }
    },
    {
      "cell_type": "markdown",
      "source": [
        "Найдем моду, медиану, квартили и дисперсию годов, в которые снимались фильмы"
      ],
      "metadata": {
        "id": "U10ysOjPnSCh"
      }
    },
    {
      "cell_type": "code",
      "source": [
        "df['year'].mode()"
      ],
      "metadata": {
        "colab": {
          "base_uri": "https://localhost:8080/"
        },
        "id": "1b-O55gunddU",
        "outputId": "74fe194c-b5d0-412e-c4cb-3ba07eb5f79d"
      },
      "execution_count": 19,
      "outputs": [
        {
          "output_type": "execute_result",
          "data": {
            "text/plain": [
              "0    2001\n",
              "dtype: int64"
            ]
          },
          "metadata": {},
          "execution_count": 19
        }
      ]
    },
    {
      "cell_type": "code",
      "source": [
        "df['year'].median()"
      ],
      "metadata": {
        "colab": {
          "base_uri": "https://localhost:8080/"
        },
        "id": "CtqplCJVoEzL",
        "outputId": "9dd99ff8-1a15-4dbc-861d-b0a5011a8ccd"
      },
      "execution_count": 18,
      "outputs": [
        {
          "output_type": "execute_result",
          "data": {
            "text/plain": [
              "1997.5"
            ]
          },
          "metadata": {},
          "execution_count": 18
        }
      ]
    },
    {
      "cell_type": "code",
      "source": [
        "df['year'].quantile(0.25), df['year'].quantile(0.75)"
      ],
      "metadata": {
        "colab": {
          "base_uri": "https://localhost:8080/"
        },
        "id": "A5HCOickoKNQ",
        "outputId": "753ddf9c-c92f-4ab4-c92d-7c081faf3a11"
      },
      "execution_count": 16,
      "outputs": [
        {
          "output_type": "execute_result",
          "data": {
            "text/plain": [
              "(1980.0, 2005.0)"
            ]
          },
          "metadata": {},
          "execution_count": 16
        }
      ]
    },
    {
      "cell_type": "code",
      "source": [
        "df['year'].var()"
      ],
      "metadata": {
        "colab": {
          "base_uri": "https://localhost:8080/"
        },
        "id": "1IeKITi-oz5N",
        "outputId": "f1458b4f-8d40-4c44-ce41-dc2e8a5b34be"
      },
      "execution_count": 17,
      "outputs": [
        {
          "output_type": "execute_result",
          "data": {
            "text/plain": [
              "361.57661044176706"
            ]
          },
          "metadata": {},
          "execution_count": 17
        }
      ]
    }
  ]
}