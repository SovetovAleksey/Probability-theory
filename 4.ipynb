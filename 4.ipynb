{
  "nbformat": 4,
  "nbformat_minor": 0,
  "metadata": {
    "colab": {
      "name": "4.ipynb",
      "provenance": [],
      "collapsed_sections": [
        "_X2JK2xkohDp",
        "CR-pFYaVqQWq"
      ],
      "authorship_tag": "ABX9TyP1Hja3UW7hLdU8SwimINu2",
      "include_colab_link": true
    },
    "kernelspec": {
      "name": "python3",
      "display_name": "Python 3"
    },
    "language_info": {
      "name": "python"
    }
  },
  "cells": [
    {
      "cell_type": "markdown",
      "metadata": {
        "id": "view-in-github",
        "colab_type": "text"
      },
      "source": [
        "<a href=\"https://colab.research.google.com/github/SovetovAleksey/Probability-theory/blob/4_quest/4.ipynb\" target=\"_parent\"><img src=\"https://colab.research.google.com/assets/colab-badge.svg\" alt=\"Open In Colab\"/></a>"
      ]
    },
    {
      "cell_type": "markdown",
      "source": [
        "# 1. Случайная непрерывная величина A имеет равномерное распределение на промежутке (200, 800]. Найдите ее среднее значение и дисперсию."
      ],
      "metadata": {
        "id": "_X2JK2xkohDp"
      }
    },
    {
      "cell_type": "markdown",
      "source": [
        "$$M(X) = \\frac{a + b}{2} = \\frac{200 + 800}{2} = 500$$\n",
        "\n",
        "$$D(X) = \\frac{(b - a)^2}{12} = \\frac{(800 - 200)^2}{12} = 30000$$"
      ],
      "metadata": {
        "id": "lr-qeYAtpncp"
      }
    },
    {
      "cell_type": "markdown",
      "source": [
        "# 2. О случайной непрерывной равномерно распределенной величине B известно, что ее дисперсия равна 0.2. Можно ли найти правую границу величины B и ее среднее значение зная, что левая граница равна 0.5? Если да, найдите ее."
      ],
      "metadata": {
        "id": "CR-pFYaVqQWq"
      }
    },
    {
      "cell_type": "markdown",
      "source": [
        "$$D(X) = 0.2$$\n",
        "$$a = 0.5$$\n",
        "\n",
        "$$0.2 = \\frac{(b - 0.5)^2}{12}$$\n",
        "$$b = \\sqrt{0.2 \\cdot 12} + 0.5 = 2.05$$\n",
        "\n",
        "$$M(X) = \\frac{a + b}{2} = \\frac{0.5 + 2.05}{2} = 1.275$$"
      ],
      "metadata": {
        "id": "mbgEaQmSqXvx"
      }
    },
    {
      "cell_type": "markdown",
      "source": [
        "# 3. Непрерывная случайная величина X распределена нормально и задана плотностью распределения\n",
        "$$f(x) = (1 / (4 * \\sqrt{2*pi})) * (exp(-(x+2)^2) / 32)$$\n",
        "Найдите:\n",
        "$$а). M(X)$$\n",
        "$$б). D(X)$$\n",
        "$$в). std(X) (среднее квадратичное отклонение)$$"
      ],
      "metadata": {
        "id": "3w220QR2rxcq"
      }
    },
    {
      "cell_type": "markdown",
      "source": [
        "$$f(x) = \\frac{1}{4 \\cdot \\sqrt{2 \\cdot pi}} \\cdot e^\\frac{-(x + 2)^2}{32}$$\n",
        "\n",
        "$$M(X) = -2$$\n",
        "$$D(X) = 4^2 = 16$$\n",
        "$$std(X) = \\sqrt{D(X)} = 4$$"
      ],
      "metadata": {
        "id": "u2h2U1CNr3sB"
      }
    },
    {
      "cell_type": "markdown",
      "source": [
        "# 4. Рост взрослого населения города X имеет нормальное распределение.\n",
        "# Причем, средний рост равен 174 см, а среднее квадратичное отклонение равно 8 см.\n",
        "# Какова вероятность того, что случайным образом выбранный взрослый человек имеет рост:\n",
        "а). больше 182 см\n",
        "б). больше 190 см\n",
        "в). от 166 см до 190 см\n",
        "г). от 166 см до 182 см\n",
        "д). от 158 см до 190 см\n",
        "е). не выше 150 см или не ниже 190 см\n",
        "ё). не выше 150 см или не ниже 198 см\n",
        "ж). ниже 166 см."
      ],
      "metadata": {
        "id": "rELLtcejel_s"
      }
    },
    {
      "cell_type": "markdown",
      "source": [
        "*  а) Человек с ростом больше 182см находится на расстоянии 1 сигмы от среднего значения, значит вероятность равна (100 - 68)/2 = 16%\n",
        "*  б) больше 190см - на расстоянии 2 сигм, тогда вероятность равна (100 - 95,4)/2 = 2,3%\n",
        "*  в) от 166 до 190 равна 68 + 13,7 = 81,7%\n",
        "*  г) от 166 до 182 равна 68%\n",
        "*  д) от 158 до 190 равна 95,4%\n",
        "*  е) не выше 150 и не ниже 190 равна 2,44%\n",
        "*  ё) не выше 150 и не ниже 198 равна 100 - 99,72 = 0,28%\n",
        "*  ж) ниже 166 равна (100 - 68)/2 = 16%"
      ],
      "metadata": {
        "id": "543wnQ35eyp5"
      }
    },
    {
      "cell_type": "markdown",
      "source": [
        "# 5. На сколько сигм (средних квадратичных отклонений) отклоняется рост человека, равный 190 см, от математического ожидания роста в популяции, в которой M(X) = 178 см и D(X) = 25 кв.см?"
      ],
      "metadata": {
        "id": "B_plpLVsl9ap"
      }
    },
    {
      "cell_type": "markdown",
      "source": [
        "$$std(X) = \\sqrt{D(X)} = \\sqrt{25} = 5$$\n",
        "\n",
        "Рост находится в интервале от +2 сигмы до +3 сигмы (а точнее на (190 - 178) / 5 = 2,4 сигмы)"
      ],
      "metadata": {
        "id": "Y7Ym7PyumEk3"
      }
    }
  ]
}