{
  "nbformat": 4,
  "nbformat_minor": 0,
  "metadata": {
    "colab": {
      "name": "2.ipynb",
      "provenance": [],
      "collapsed_sections": [
        "8dYBkwMdc4SL",
        "cKyVYqAFfeVi",
        "UgXe8FCcRwmV",
        "2WKjMKcIR5Rf"
      ],
      "authorship_tag": "ABX9TyOGqPmFjO+iIIlTHm3VE9xN",
      "include_colab_link": true
    },
    "kernelspec": {
      "name": "python3",
      "display_name": "Python 3"
    },
    "language_info": {
      "name": "python"
    }
  },
  "cells": [
    {
      "cell_type": "markdown",
      "metadata": {
        "id": "view-in-github",
        "colab_type": "text"
      },
      "source": [
        "<a href=\"https://colab.research.google.com/github/SovetovAleksey/Probability-theory/blob/2_quest/2.ipynb\" target=\"_parent\"><img src=\"https://colab.research.google.com/assets/colab-badge.svg\" alt=\"Open In Colab\"/></a>"
      ]
    },
    {
      "cell_type": "markdown",
      "source": [
        "# 1. Вероятность того, что стрелок попадет в мишень, выстрелив один раз, равна 0.8. Стрелок выстрелил 100 раз. Найдите вероятность того, что стрелок попадет в цель ровно 85 раз."
      ],
      "metadata": {
        "id": "8dYBkwMdc4SL"
      }
    },
    {
      "cell_type": "markdown",
      "source": [
        "$$P(k=85) = C_{100}^{85} \\cdot p^{85} \\cdot q^{100 - 85} = \\frac{100!}{85!(100-85)!} \\cdot 0.8^{85} \\cdot 0.2^{100-85} = 0.048061793700746556$$"
      ],
      "metadata": {
        "id": "SEH_OfOIc9nD"
      }
    },
    {
      "cell_type": "markdown",
      "source": [
        "# 2. Вероятность того, что лампочка перегорит в течение первого дня эксплуатации, равна 0.0004. В жилом комплексе после ремонта в один день включили 5000 новых лампочек. Какова вероятность, что ни одна из них не перегорит в первый день? Какова вероятность, что перегорят ровно две?"
      ],
      "metadata": {
        "id": "cKyVYqAFfeVi"
      }
    },
    {
      "cell_type": "markdown",
      "source": [
        "$$P(k=0) = \\frac{\\lambda^m}{m!}e^{-\\lambda} = \\frac{(5000 \\cdot 0.0004)^0}{0!} \\cdot e^{-(5000 \\cdot 0.0004)} = 0.1353352832366127$$"
      ],
      "metadata": {
        "id": "1gobsGh6fkmJ"
      }
    },
    {
      "cell_type": "markdown",
      "source": [
        "$$P(k=2) = \\frac{\\lambda^m}{m!}e^{-\\lambda} = \\frac{(5000 \\cdot 0.0004)^2}{2!} \\cdot e^{-(5000 \\cdot 0.0004)} = 0.2706705664732254$$"
      ],
      "metadata": {
        "id": "3-C4lztHhoGh"
      }
    },
    {
      "cell_type": "markdown",
      "source": [
        "# 3. Монету подбросили 144 раза. Какова вероятность, что орел выпадет ровно 70 раз?"
      ],
      "metadata": {
        "id": "UgXe8FCcRwmV"
      }
    },
    {
      "cell_type": "markdown",
      "source": [
        "$$P(k=70) = C_{144}^{70} \\cdot p^{70} \\cdot q^{144 - 70} = \\frac{144!}{70!(144-70)!} \\cdot 0.5^{70} \\cdot 0.5^{144-70} = 0.06281178035144776$$"
      ],
      "metadata": {
        "id": "L5X0BMrIRxO7"
      }
    },
    {
      "cell_type": "markdown",
      "source": [
        "# 4. В первом ящике находится 10 мячей, из которых 7 - белые. Во втором ящике - 11 мячей, из которых 9 белых. Из каждого ящика вытаскивают случайным образом по два мяча. Какова вероятность того, что все мячи белые? Какова вероятность того, что ровно два мяча белые? Какова вероятность того, что хотя бы один мяч белый?"
      ],
      "metadata": {
        "id": "2WKjMKcIR5Rf"
      }
    },
    {
      "cell_type": "markdown",
      "source": [
        "Вероятность вытащить 2 белых мяча из первого ящика:"
      ],
      "metadata": {
        "id": "4bcGxAD_R8iA"
      }
    },
    {
      "cell_type": "markdown",
      "source": [
        "$$P_1 = \\frac{C_7^2}{C_{10}^2} = \\frac{\\frac{7!}{2!(7-2)!}}{\\frac{10!}{2!(10-2)!}} = \\frac{21}{45}$$"
      ],
      "metadata": {
        "id": "vCoLuHdGSVCo"
      }
    },
    {
      "cell_type": "markdown",
      "source": [
        "Вероятность вытащить 2 белых мяча из 2 ящика"
      ],
      "metadata": {
        "id": "No9kjvZmTWXQ"
      }
    },
    {
      "cell_type": "markdown",
      "source": [
        "$$P_2 = \\frac{C_9^2}{C_{11}^2} = \\frac{\\frac{9!}{2!(9-2)!}}{\\frac{11!}{2!(11-2)!}} = \\frac{36}{55}$$"
      ],
      "metadata": {
        "id": "sP2CpdygTai3"
      }
    },
    {
      "cell_type": "markdown",
      "source": [
        "Вероятность вытащить по 2 белых мяча из обоих ящиков:"
      ],
      "metadata": {
        "id": "PLTFE_QaT-Wf"
      }
    },
    {
      "cell_type": "markdown",
      "source": [
        "$$P_{общ} = P_1 \\cdot P_2 = \\frac{21}{45} \\cdot \\frac{36}{55} = \\frac{84}{275}$$"
      ],
      "metadata": {
        "id": "N4q9nZukUEA-"
      }
    },
    {
      "cell_type": "markdown",
      "source": [
        "Вероятность того, что ровно 2 мяча белые:"
      ],
      "metadata": {
        "id": "eO2clvjEW-OF"
      }
    },
    {
      "cell_type": "markdown",
      "source": [
        "$$P_1 = \\frac{C_7^1 \\cdot C_3^1}{C_{10}^2} \\cdot \\frac{C_9^1 \\cdot C_2^1}{C_{11}^2} = \\frac{42}{275}$$\n",
        "$$P_2 = \\frac{C_7^2 \\cdot C_3^0}{C_{10}^2} \\cdot \\frac{C_2^2 \\cdot C_9^0}{C_{11}^2} = \\frac{7}{825}$$\n",
        "$$P_3 = \\frac{C_7^0 \\cdot C_3^2}{C_{10}^2} \\cdot \\frac{C_9^2 \\cdot C_2^0}{C_{11}^2} = \\frac{12}{275}$$\n",
        "\n",
        "\n",
        "$$P_{общ} = P_1 + P_2 + P_3 = \\frac{42}{275} + \\frac{7}{825} + \\frac{12}{275} = \\frac{169}{825}$$"
      ],
      "metadata": {
        "id": "fYdbfwBkXBd7"
      }
    },
    {
      "cell_type": "markdown",
      "source": [
        "Вероятность того, что хотя бы 1 мяч белый"
      ],
      "metadata": {
        "id": "pVHHlSQ9fkS8"
      }
    },
    {
      "cell_type": "markdown",
      "source": [
        "$$P = 1 - \\frac{C_3^2}{C_{10}^2} \\cdot \\frac{C_2^2}{C_{11}^2} = 1 - \\frac{1}{825} = \\frac{824}{825}$$"
      ],
      "metadata": {
        "id": "1HKoHzhEfraQ"
      }
    }
  ]
}