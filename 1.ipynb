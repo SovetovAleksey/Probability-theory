{
  "nbformat": 4,
  "nbformat_minor": 0,
  "metadata": {
    "colab": {
      "name": "1.ipynb",
      "provenance": [],
      "collapsed_sections": [
        "ca1T4TdyT3Qs",
        "9NGx8F5MWhPC",
        "qi3pWQ0DXsa9",
        "T0ryvsSUZJl3",
        "hQlfsNQZbXcJ"
      ],
      "authorship_tag": "ABX9TyMJs0hNebrE2n1swH2WGLFE",
      "include_colab_link": true
    },
    "kernelspec": {
      "name": "python3",
      "display_name": "Python 3"
    },
    "language_info": {
      "name": "python"
    }
  },
  "cells": [
    {
      "cell_type": "markdown",
      "metadata": {
        "id": "view-in-github",
        "colab_type": "text"
      },
      "source": [
        "<a href=\"https://colab.research.google.com/github/SovetovAleksey/Probability-theory/blob/1_quest/1.ipynb\" target=\"_parent\"><img src=\"https://colab.research.google.com/assets/colab-badge.svg\" alt=\"Open In Colab\"/></a>"
      ]
    },
    {
      "cell_type": "markdown",
      "source": [
        "# 1. Из колоды в 52 карты извлекаются случайным образом 4 карты. a) Найти вероятность того, что все карты – крести. б) Найти вероятность, что среди 4-х карт окажется хотя бы один туз."
      ],
      "metadata": {
        "id": "ca1T4TdyT3Qs"
      }
    },
    {
      "cell_type": "markdown",
      "source": [
        "Количетво всех исходов"
      ],
      "metadata": {
        "id": "A1l32fFHT9ea"
      }
    },
    {
      "cell_type": "markdown",
      "source": [
        "$$C_{52}^4 = \\frac{52!}{4!(52-4)!} = 270715$$"
      ],
      "metadata": {
        "id": "aQKYSrpsUuF_"
      }
    },
    {
      "cell_type": "markdown",
      "source": [
        "Количество благоприятных исходов"
      ],
      "metadata": {
        "id": "083KoavhUxiQ"
      }
    },
    {
      "cell_type": "markdown",
      "source": [
        "$$C_{13}^4 = \\frac{13!}{4!(13-4)!} = 715$$"
      ],
      "metadata": {
        "id": "QiJiPJfkU33J"
      }
    },
    {
      "cell_type": "markdown",
      "source": [
        "Ответ"
      ],
      "metadata": {
        "id": "R-6XTYeGU8zD"
      }
    },
    {
      "cell_type": "markdown",
      "source": [
        "$$\\frac{C_{13}^4 }{C_{52}^4} = 0.0026410564225690276$$"
      ],
      "metadata": {
        "id": "oWcOA4pwU90z"
      }
    },
    {
      "cell_type": "markdown",
      "source": [
        "# 2. На входной двери подъезда установлен кодовый замок, содержащий десять кнопок с цифрами от 0 до 9. Код содержит три цифры, которые нужно нажать одновременно. Какова вероятность того, что человек, не знающий код, откроет дверь с первой попытки?"
      ],
      "metadata": {
        "id": "9NGx8F5MWhPC"
      }
    },
    {
      "cell_type": "markdown",
      "source": [
        "Количество всех исходов"
      ],
      "metadata": {
        "id": "RdDPzK-2Wn3h"
      }
    },
    {
      "cell_type": "markdown",
      "source": [
        "$$C_{10}^3 \\frac{10!}{3!(10-3)!}= 120$$"
      ],
      "metadata": {
        "id": "fzOtJoTbWz7S"
      }
    },
    {
      "cell_type": "markdown",
      "source": [
        ""
      ],
      "metadata": {
        "id": "dFWxqiLvXpkd"
      }
    },
    {
      "cell_type": "markdown",
      "source": [
        "Количество благоприятных исходов"
      ],
      "metadata": {
        "id": "9Hv9WdYuXWDO"
      }
    },
    {
      "cell_type": "markdown",
      "source": [
        "$$1$$"
      ],
      "metadata": {
        "id": "zYr7ALbbXY-P"
      }
    },
    {
      "cell_type": "markdown",
      "source": [
        "Ответ"
      ],
      "metadata": {
        "id": "azbBTnUSXbuk"
      }
    },
    {
      "cell_type": "markdown",
      "source": [
        "$$\\frac{1}{C_{10}^3} = \\frac{1}{120} = 0.008333333333333333$$"
      ],
      "metadata": {
        "id": "_SdRXUh1XcuH"
      }
    },
    {
      "cell_type": "markdown",
      "source": [
        "# 3. В ящике имеется 15 деталей, из которых 9 окрашены. Рабочий случайным образом извлекает 3 детали. Какова вероятность того, что все извлеченные детали окрашены?"
      ],
      "metadata": {
        "id": "qi3pWQ0DXsa9"
      }
    },
    {
      "cell_type": "markdown",
      "source": [
        "Количество всех исходов"
      ],
      "metadata": {
        "id": "b0AhiB52Xv7D"
      }
    },
    {
      "cell_type": "markdown",
      "source": [
        "$$C_{15}^3 = \\frac{15!}{3!(15-3)!}= 455$$"
      ],
      "metadata": {
        "id": "UyBsf-XsX0fr"
      }
    },
    {
      "cell_type": "markdown",
      "source": [
        "Количество благоприятных исходов"
      ],
      "metadata": {
        "id": "BRLss5HKYJUj"
      }
    },
    {
      "cell_type": "markdown",
      "source": [
        "$$C_{9}^3 = \\frac{9!}{3!(9-3)!} = 84$$"
      ],
      "metadata": {
        "id": "Y48eplugYNDP"
      }
    },
    {
      "cell_type": "markdown",
      "source": [
        "Ответ"
      ],
      "metadata": {
        "id": "rfbCDWeHYn5W"
      }
    },
    {
      "cell_type": "markdown",
      "source": [
        "$$\\frac{C_{15}^3}{C_{9}^3} = 0.18461538461538463$$"
      ],
      "metadata": {
        "id": "OGLNacQiYo6v"
      }
    },
    {
      "cell_type": "markdown",
      "source": [
        "# 4. В лотерее 100 билетов. Из них 2 выигрышных. Какова вероятность того, что 2 приобретенных билета окажутся выигрышными?"
      ],
      "metadata": {
        "id": "T0ryvsSUZJl3"
      }
    },
    {
      "cell_type": "markdown",
      "source": [
        "Количество благоприятных исходов"
      ],
      "metadata": {
        "id": "CmEoxEgcZO-d"
      }
    },
    {
      "cell_type": "markdown",
      "source": [
        "$$C_{100}^2 = \\frac{100!}{2!(100-2)!} = 4950$$"
      ],
      "metadata": {
        "id": "aiOoscwtZTea"
      }
    },
    {
      "cell_type": "markdown",
      "source": [
        "Количество благоприятных исходов (в случае сочетания)"
      ],
      "metadata": {
        "id": "Ng_UFlfgZtyS"
      }
    },
    {
      "cell_type": "markdown",
      "source": [
        "$$1$$"
      ],
      "metadata": {
        "id": "YbwifMPYaRhp"
      }
    },
    {
      "cell_type": "markdown",
      "source": [
        "Ответ"
      ],
      "metadata": {
        "id": "0btj8Wt7abg9"
      }
    },
    {
      "cell_type": "markdown",
      "source": [
        "$$\\frac{1}{C_{100}^2} = 0.00020202020202020202$$"
      ],
      "metadata": {
        "id": "7H6992gcacaa"
      }
    },
    {
      "cell_type": "markdown",
      "source": [
        "# 5. На соревновании по биатлону один из трех спортсменов стреляет и попадает в мишень. Вероятность попадания для первого спортсмена равна 0.9, для второго — 0.8, для третьего — 0.6. Найти вероятность того, что выстрел произведен: a). первым спортсменом б). вторым спортсменом в). третьим спортсменом."
      ],
      "metadata": {
        "id": "hQlfsNQZbXcJ"
      }
    },
    {
      "cell_type": "markdown",
      "source": [
        "Воспользуемся формулой Байеса\n",
        "\n",
        "\n",
        "> Событие А - попадание в мишень\n",
        "\n",
        "> Событие B - выстрел одного из спортсменов (1/3) \n",
        "\n"
      ],
      "metadata": {
        "id": "AIDn8WZObdjY"
      }
    },
    {
      "cell_type": "markdown",
      "source": [
        "$$P(A\\:|\\:B_1) = 0.9$$\n",
        "\n",
        "$$P(A\\:|\\:B_2) = 0.8$$\n",
        "\n",
        "$$P(A\\:|\\:B_3) = 0.6$$\n",
        "\n",
        "$$P(A) = \\frac{1}{3} \\cdot 0.9 + \\frac{1}{3} \\cdot 0.8 + \\frac{1}{3} \\cdot 0.6$$\n",
        "\n",
        "\n"
      ],
      "metadata": {
        "id": "Pk4bHUPOcnOA"
      }
    },
    {
      "cell_type": "markdown",
      "source": [
        "Вероятность того, что стрелял первый спортсмен — при условии, что выстрел был удачным"
      ],
      "metadata": {
        "id": "fkl36PGZdsaO"
      }
    },
    {
      "cell_type": "markdown",
      "source": [
        "$$P(B_1\\:|\\:A) = \\frac{P(B_1) \\cdot P(A\\:|\\:B_1)}{P(A)} = \\frac{\\frac{1}{3} \\cdot 0.9}{\\frac{1}{3} \\cdot 0.9 + \\frac{1}{3} \\cdot 0.8 + \\frac{1}{3} \\cdot 0.6} = \\frac{9}{23}$$"
      ],
      "metadata": {
        "id": "jIqPFE5NeC5o"
      }
    },
    {
      "cell_type": "markdown",
      "source": [
        "Вероятность того, что стрелял второй спортсмен — при условии, что выстрел был удачным"
      ],
      "metadata": {
        "id": "c6lKHhz7f7af"
      }
    },
    {
      "cell_type": "markdown",
      "source": [
        "$$P(B_2\\:|\\:A) = \\frac{P(B_2) \\cdot P(A\\:|\\:B_2)}{P(A)} = \\frac{\\frac{1}{3} \\cdot 0.8}{\\frac{1}{3} \\cdot 0.9 + \\frac{1}{3} \\cdot 0.8 + \\frac{1}{3} \\cdot 0.6} = \\frac{8}{23}$$"
      ],
      "metadata": {
        "id": "3j4_GWSugAEy"
      }
    },
    {
      "cell_type": "markdown",
      "source": [
        "Вероятность того, что стрелял второй спортсмен — при условии, что выстрел был удачным"
      ],
      "metadata": {
        "id": "7gNF0pCPgGhY"
      }
    },
    {
      "cell_type": "markdown",
      "source": [
        "$$P(B_3\\:|\\:A) = \\frac{P(B_3) \\cdot P(A\\:|\\:B_3)}{P(A)} = \\frac{\\frac{1}{3} \\cdot 0.6}{\\frac{1}{3} \\cdot 0.9 + \\frac{1}{3} \\cdot 0.8 + \\frac{1}{3} \\cdot 0.6} = \\frac{6}{23}$$"
      ],
      "metadata": {
        "id": "pWvnEi9JgIRe"
      }
    }
  ]
}