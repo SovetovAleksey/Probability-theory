{
  "nbformat": 4,
  "nbformat_minor": 0,
  "metadata": {
    "colab": {
      "name": "5.ipynb",
      "provenance": [],
      "collapsed_sections": [
        "WYCYkhy7slx0",
        "TDrURB1hwrQd"
      ],
      "authorship_tag": "ABX9TyNedQNPHzfMJlUimRpvZNcP",
      "include_colab_link": true
    },
    "kernelspec": {
      "name": "python3",
      "display_name": "Python 3"
    },
    "language_info": {
      "name": "python"
    }
  },
  "cells": [
    {
      "cell_type": "markdown",
      "metadata": {
        "id": "view-in-github",
        "colab_type": "text"
      },
      "source": [
        "<a href=\"https://colab.research.google.com/github/SovetovAleksey/Probability-theory/blob/5_quest/5.ipynb\" target=\"_parent\"><img src=\"https://colab.research.google.com/assets/colab-badge.svg\" alt=\"Open In Colab\"/></a>"
      ]
    },
    {
      "cell_type": "code",
      "source": [
        "import numpy as np"
      ],
      "metadata": {
        "id": "aJgSsZMbxTGj"
      },
      "execution_count": 1,
      "outputs": []
    },
    {
      "cell_type": "markdown",
      "source": [
        "# 1. Известно, что генеральная совокупность распределена нормально со средним квадратическим отклонением, равным 16. Найти доверительный интервал для оценки математического ожидания a с надежностью 0.95, если выборочная средняя M = 80, а объем выборки n = 256."
      ],
      "metadata": {
        "id": "WYCYkhy7slx0"
      }
    },
    {
      "cell_type": "markdown",
      "source": [
        "$$σ = 16$$\n",
        "$$\\alpha = 0.05$$\n",
        "$$M = 80$$\n",
        "$$n = 256$$\n",
        "$$t_{1- \\alpha/2} = 1.96$$\n",
        "\n",
        "$$T_{1,2} = \\overline{X} \\pm \\frac{s_0}{\\sqrt{n}} \\cdot t_{1 - \\alpha/2, n - 1} = 80 \\pm \\frac{16}{\\sqrt{256}} \\cdot 1.96 = 80 \\pm 1.96$$\n",
        "\n"
      ],
      "metadata": {
        "id": "Ird_W3E3stGf"
      }
    },
    {
      "cell_type": "markdown",
      "source": [
        "# 2. В результате 10 независимых измерений некоторой величины X, выполненных с одинаковой точностью, получены опытные данные: 6.9, 6.1, 6.2, 6.8, 7.5, 6.3, 6.4, 6.9, 6.7, 6.1 Предполагая, что результаты измерений подчинены нормальному закону распределения вероятностей, оценить истинное значение величины X при помощи доверительного интервала, покрывающего это значение с доверительной вероятностью 0,95."
      ],
      "metadata": {
        "id": "TDrURB1hwrQd"
      }
    },
    {
      "cell_type": "markdown",
      "source": [
        "$\\alpha = 0.05, n - 1= 9, T_{1,2} = \\overline{X} \\pm \\frac{s_0}{\\sqrt{n}} \\cdot c_{\\gamma}, t_{1 - \\alpha/2, n - 1} = 2.2622$"
      ],
      "metadata": {
        "id": "yv1w8PJ_w1f0"
      }
    },
    {
      "cell_type": "code",
      "source": [
        "array = np.array([6.9, 6.1, 6.2, 6.8, 7.5, 6.3, 6.4, 6.9, 6.7, 6.1])\n",
        "array"
      ],
      "metadata": {
        "colab": {
          "base_uri": "https://localhost:8080/"
        },
        "id": "NHYxFlP9xu-x",
        "outputId": "cff4fdcd-7da2-4d43-bd98-11e967a82882"
      },
      "execution_count": 13,
      "outputs": [
        {
          "output_type": "execute_result",
          "data": {
            "text/plain": [
              "array([6.9, 6.1, 6.2, 6.8, 7.5, 6.3, 6.4, 6.9, 6.7, 6.1])"
            ]
          },
          "metadata": {},
          "execution_count": 13
        }
      ]
    },
    {
      "cell_type": "code",
      "source": [
        "array_mean = array.mean()\n",
        "array_mean"
      ],
      "metadata": {
        "colab": {
          "base_uri": "https://localhost:8080/"
        },
        "id": "XoS0sE7hx5if",
        "outputId": "2386cd86-20ea-46d9-a3e5-640386506157"
      },
      "execution_count": 7,
      "outputs": [
        {
          "output_type": "execute_result",
          "data": {
            "text/plain": [
              "6.590000000000001"
            ]
          },
          "metadata": {},
          "execution_count": 7
        }
      ]
    },
    {
      "cell_type": "code",
      "source": [
        "array_std = array.std(ddof = 1)\n",
        "array_std"
      ],
      "metadata": {
        "colab": {
          "base_uri": "https://localhost:8080/"
        },
        "id": "ipklP3lmyCbi",
        "outputId": "b422c583-3cde-4e6c-9490-acf829f147ec"
      },
      "execution_count": 9,
      "outputs": [
        {
          "output_type": "execute_result",
          "data": {
            "text/plain": [
              "0.4508017549014448"
            ]
          },
          "metadata": {},
          "execution_count": 9
        }
      ]
    },
    {
      "cell_type": "markdown",
      "source": [
        "$$T_{1,2} = \\overline{X} \\pm \\frac{s_0}{\\sqrt{n}} \\cdot t_{1 - \\alpha/2, n - 1} = 6.59 \\pm \\frac{0.4508017549014448}{\\sqrt{10}} \\cdot 2.2622 = 6.59 \\pm 0,3224902554$$"
      ],
      "metadata": {
        "id": "vyOCYk-9yUJn"
      }
    },
    {
      "cell_type": "markdown",
      "source": [
        "# 3. Утверждается, что шарики для подшипников, изготовленные автоматическим станком, имеют средний диаметр 17 мм. Используя односторонний критерий с α=0,05, проверить эту гипотезу, если в выборке из n=100 шариков средний диаметр оказался равным 17.5 мм, а дисперсия известна и равна 4 мм."
      ],
      "metadata": {
        "id": "8H32Gw1t5ueU"
      }
    },
    {
      "cell_type": "markdown",
      "source": [
        "$$α = 0,05$$\n",
        "$$n = 100$$\n",
        "$$D(X) = 4$$\n",
        "$$H0: 17,5 = 17$$\n",
        "$$H1: 17,5 \\ne 17$$\n",
        "\n",
        "$$σ = \\sqrt{D(X)} = \\sqrt{4} = 2$$\n",
        "$$Z_{H} = \\dfrac{\\overline{X} - m}{\\sigma_X / \\sqrt{n}} = \\frac{17,5 - 17}{2/\\sqrt{100}} = \\frac{0.5}{0.2} = 2.5$$\n",
        "\n",
        "$$t_{1 - \\alpha/2, n - 1} = 1.9842$$\n",
        "\n",
        "$$Z_{H} > t_{1 - \\alpha/2, n - 1}$$\n",
        "\n",
        "$$2.5 > 1.9842$$\n",
        "\n",
        "\n"
      ],
      "metadata": {
        "id": "HmhPavsK52FX"
      }
    },
    {
      "cell_type": "markdown",
      "source": [
        "Отвергаем нулевую гипотезу, принимаем альтернативную гипотезу"
      ],
      "metadata": {
        "id": "jG8xM-9YB1sQ"
      }
    },
    {
      "cell_type": "markdown",
      "source": [
        ""
      ],
      "metadata": {
        "id": "TJ3Fp7HPCAaZ"
      }
    },
    {
      "cell_type": "markdown",
      "source": [
        "# 4. Продавец утверждает, что средний вес пачки печенья составляет 200 г. Из партии извлечена выборка из 10 пачек. Вес каждой пачки составляет: 202, 203, 199, 197, 195, 201, 200, 204, 194, 190. Известно, что их веса распределены нормально. Верно ли утверждение продавца, если учитывать, что доверительная вероятность равна 99%?"
      ],
      "metadata": {
        "id": "bJV-xb-ACFCM"
      }
    },
    {
      "cell_type": "markdown",
      "source": [
        "$$α = 0.01, n = 10$$"
      ],
      "metadata": {
        "id": "AjAooU2-CN6h"
      }
    },
    {
      "cell_type": "code",
      "source": [
        "array = np.array([202, 203, 199, 197, 195, 201, 200, 204, 194, 190])"
      ],
      "metadata": {
        "id": "wFfg2E1gCgm6"
      },
      "execution_count": 10,
      "outputs": []
    },
    {
      "cell_type": "code",
      "source": [
        "array_mean = array.mean()\n",
        "array_mean"
      ],
      "metadata": {
        "colab": {
          "base_uri": "https://localhost:8080/"
        },
        "id": "56pnpfmGCmbX",
        "outputId": "bf8cb710-cae1-4c83-eff8-cac9f0aadca8"
      },
      "execution_count": 11,
      "outputs": [
        {
          "output_type": "execute_result",
          "data": {
            "text/plain": [
              "198.5"
            ]
          },
          "metadata": {},
          "execution_count": 11
        }
      ]
    },
    {
      "cell_type": "markdown",
      "source": [
        "$$H0: 200 = 198,5$$\n",
        "$$H1: 200 \\ne 108,5$$"
      ],
      "metadata": {
        "id": "NJUOLHikC8V3"
      }
    },
    {
      "cell_type": "code",
      "source": [
        "array_std = array.std(ddof = 1)\n",
        "array_std"
      ],
      "metadata": {
        "colab": {
          "base_uri": "https://localhost:8080/"
        },
        "id": "2UwAe8q1CsGW",
        "outputId": "c60e0d8c-331f-4069-e6b8-e1c470b4c91b"
      },
      "execution_count": 12,
      "outputs": [
        {
          "output_type": "execute_result",
          "data": {
            "text/plain": [
              "4.453463071962462"
            ]
          },
          "metadata": {},
          "execution_count": 12
        }
      ]
    },
    {
      "cell_type": "markdown",
      "source": [
        "$$Z_{H} = \\dfrac{\\overline{X} - m}{\\sigma_X / \\sqrt{n}} = \\frac{198,5 - 200}{4.453463071962462/\\sqrt{10}} = \\frac{-1.5}{1.4083086783} = -1.0651074037$$"
      ],
      "metadata": {
        "id": "9zuE1-boDFsl"
      }
    },
    {
      "cell_type": "markdown",
      "source": [
        "$$t_{1 - \\alpha/2, n - 1} = 2,7638$$"
      ],
      "metadata": {
        "id": "gMCWfo_QDypA"
      }
    },
    {
      "cell_type": "markdown",
      "source": [
        "$$Z_{H} \\in [-2,7638; +2,7638]$$"
      ],
      "metadata": {
        "id": "kbG7VJu6EN2o"
      }
    },
    {
      "cell_type": "markdown",
      "source": [
        "Нулевая гипотеза верна"
      ],
      "metadata": {
        "id": "oNr9Q-6VFECX"
      }
    }
  ]
}